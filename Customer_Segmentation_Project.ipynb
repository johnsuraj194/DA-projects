{
  "cells": [
    {
      "cell_type": "markdown",
      "metadata": {
        "id": "view-in-github",
        "colab_type": "text"
      },
      "source": [
        "<a href=\"https://colab.research.google.com/github/johnsuraj194/johnsuraj194/blob/main/Customer_Segmentation_Project.ipynb\" target=\"_parent\"><img src=\"https://colab.research.google.com/assets/colab-badge.svg\" alt=\"Open In Colab\"/></a>"
      ]
    },
    {
      "cell_type": "code",
      "execution_count": null,
      "id": "3ba88d50",
      "metadata": {
        "id": "3ba88d50"
      },
      "outputs": [],
      "source": [
        "import numpy as np\n",
        "import pandas as pd\n",
        "import matplotlib.pyplot as plt\n",
        "import seaborn as sns\n",
        "from sklearn.preprocessing import MinMaxScaler\n",
        "from sklearn.cluster import KMeans"
      ]
    },
    {
      "cell_type": "code",
      "execution_count": null,
      "id": "04a2fd34",
      "metadata": {
        "id": "04a2fd34",
        "outputId": "df84e2e4-9ca3-4d9b-edee-8b669906cefe"
      },
      "outputs": [
        {
          "data": {
            "text/html": [
              "<div>\n",
              "<style scoped>\n",
              "    .dataframe tbody tr th:only-of-type {\n",
              "        vertical-align: middle;\n",
              "    }\n",
              "\n",
              "    .dataframe tbody tr th {\n",
              "        vertical-align: top;\n",
              "    }\n",
              "\n",
              "    .dataframe thead th {\n",
              "        text-align: right;\n",
              "    }\n",
              "</style>\n",
              "<table border=\"1\" class=\"dataframe\">\n",
              "  <thead>\n",
              "    <tr style=\"text-align: right;\">\n",
              "      <th></th>\n",
              "      <th>CustomerID</th>\n",
              "      <th>Gender</th>\n",
              "      <th>Age</th>\n",
              "      <th>Annual Income (k$)</th>\n",
              "      <th>Spending Score (1-100)</th>\n",
              "    </tr>\n",
              "  </thead>\n",
              "  <tbody>\n",
              "    <tr>\n",
              "      <th>0</th>\n",
              "      <td>1</td>\n",
              "      <td>Male</td>\n",
              "      <td>19</td>\n",
              "      <td>15</td>\n",
              "      <td>39</td>\n",
              "    </tr>\n",
              "    <tr>\n",
              "      <th>1</th>\n",
              "      <td>2</td>\n",
              "      <td>Male</td>\n",
              "      <td>21</td>\n",
              "      <td>15</td>\n",
              "      <td>81</td>\n",
              "    </tr>\n",
              "    <tr>\n",
              "      <th>2</th>\n",
              "      <td>3</td>\n",
              "      <td>Female</td>\n",
              "      <td>20</td>\n",
              "      <td>16</td>\n",
              "      <td>6</td>\n",
              "    </tr>\n",
              "    <tr>\n",
              "      <th>3</th>\n",
              "      <td>4</td>\n",
              "      <td>Female</td>\n",
              "      <td>23</td>\n",
              "      <td>16</td>\n",
              "      <td>77</td>\n",
              "    </tr>\n",
              "    <tr>\n",
              "      <th>4</th>\n",
              "      <td>5</td>\n",
              "      <td>Female</td>\n",
              "      <td>31</td>\n",
              "      <td>17</td>\n",
              "      <td>40</td>\n",
              "    </tr>\n",
              "  </tbody>\n",
              "</table>\n",
              "</div>"
            ],
            "text/plain": [
              "   CustomerID  Gender  Age  Annual Income (k$)  Spending Score (1-100)\n",
              "0           1    Male   19                  15                      39\n",
              "1           2    Male   21                  15                      81\n",
              "2           3  Female   20                  16                       6\n",
              "3           4  Female   23                  16                      77\n",
              "4           5  Female   31                  17                      40"
            ]
          },
          "execution_count": 190,
          "metadata": {},
          "output_type": "execute_result"
        }
      ],
      "source": [
        "df=pd.read_csv(\"Mall_Customers.csv\")\n",
        "df.head()"
      ]
    },
    {
      "cell_type": "code",
      "execution_count": null,
      "id": "cadc20c4",
      "metadata": {
        "id": "cadc20c4",
        "outputId": "40253c1f-c16d-4e7a-a3c5-c06b1c3c8485"
      },
      "outputs": [
        {
          "data": {
            "text/plain": [
              "(200, 5)"
            ]
          },
          "execution_count": 191,
          "metadata": {},
          "output_type": "execute_result"
        }
      ],
      "source": [
        "df.shape"
      ]
    },
    {
      "cell_type": "code",
      "execution_count": null,
      "id": "a5fb09e7",
      "metadata": {
        "id": "a5fb09e7",
        "outputId": "98caf972-0af7-4bd6-c548-9b4887ddf269"
      },
      "outputs": [
        {
          "name": "stdout",
          "output_type": "stream",
          "text": [
            "<class 'pandas.core.frame.DataFrame'>\n",
            "RangeIndex: 200 entries, 0 to 199\n",
            "Data columns (total 5 columns):\n",
            " #   Column                  Non-Null Count  Dtype \n",
            "---  ------                  --------------  ----- \n",
            " 0   CustomerID              200 non-null    int64 \n",
            " 1   Gender                  200 non-null    object\n",
            " 2   Age                     200 non-null    int64 \n",
            " 3   Annual Income (k$)      200 non-null    int64 \n",
            " 4   Spending Score (1-100)  200 non-null    int64 \n",
            "dtypes: int64(4), object(1)\n",
            "memory usage: 7.9+ KB\n"
          ]
        }
      ],
      "source": [
        "df.info()"
      ]
    },
    {
      "cell_type": "markdown",
      "id": "8ae8154b",
      "metadata": {
        "id": "8ae8154b"
      },
      "source": [
        "# Check for missing values\n"
      ]
    },
    {
      "cell_type": "code",
      "execution_count": null,
      "id": "cc916eb4",
      "metadata": {
        "id": "cc916eb4",
        "outputId": "dff1ee46-d4be-4a61-fc06-8a0d05310057"
      },
      "outputs": [
        {
          "data": {
            "text/plain": [
              "CustomerID                0\n",
              "Gender                    0\n",
              "Age                       0\n",
              "Annual Income (k$)        0\n",
              "Spending Score (1-100)    0\n",
              "dtype: int64"
            ]
          },
          "execution_count": 193,
          "metadata": {},
          "output_type": "execute_result"
        }
      ],
      "source": [
        "df.isnull().sum()"
      ]
    },
    {
      "cell_type": "markdown",
      "id": "c30ae13c",
      "metadata": {
        "id": "c30ae13c"
      },
      "source": [
        "# Visualising Age and Gender column for insights"
      ]
    },
    {
      "cell_type": "code",
      "execution_count": null,
      "id": "497638da",
      "metadata": {
        "id": "497638da",
        "outputId": "a4af13e2-cde0-4403-acbe-440d36aad23a"
      },
      "outputs": [
        {
          "data": {
            "text/plain": [
              "array([['Male', 19],\n",
              "       ['Male', 21],\n",
              "       ['Female', 20],\n",
              "       ['Female', 23],\n",
              "       ['Female', 31],\n",
              "       ['Female', 22],\n",
              "       ['Female', 35],\n",
              "       ['Female', 23],\n",
              "       ['Male', 64],\n",
              "       ['Female', 30],\n",
              "       ['Male', 67],\n",
              "       ['Female', 35],\n",
              "       ['Female', 58],\n",
              "       ['Female', 24],\n",
              "       ['Male', 37],\n",
              "       ['Male', 22],\n",
              "       ['Female', 35],\n",
              "       ['Male', 20],\n",
              "       ['Male', 52],\n",
              "       ['Female', 35],\n",
              "       ['Male', 35],\n",
              "       ['Male', 25],\n",
              "       ['Female', 46],\n",
              "       ['Male', 31],\n",
              "       ['Female', 54],\n",
              "       ['Male', 29],\n",
              "       ['Female', 45],\n",
              "       ['Male', 35],\n",
              "       ['Female', 40],\n",
              "       ['Female', 23],\n",
              "       ['Male', 60],\n",
              "       ['Female', 21],\n",
              "       ['Male', 53],\n",
              "       ['Male', 18],\n",
              "       ['Female', 49],\n",
              "       ['Female', 21],\n",
              "       ['Female', 42],\n",
              "       ['Female', 30],\n",
              "       ['Female', 36],\n",
              "       ['Female', 20],\n",
              "       ['Female', 65],\n",
              "       ['Male', 24],\n",
              "       ['Male', 48],\n",
              "       ['Female', 31],\n",
              "       ['Female', 49],\n",
              "       ['Female', 24],\n",
              "       ['Female', 50],\n",
              "       ['Female', 27],\n",
              "       ['Female', 29],\n",
              "       ['Female', 31],\n",
              "       ['Female', 49],\n",
              "       ['Male', 33],\n",
              "       ['Female', 31],\n",
              "       ['Male', 59],\n",
              "       ['Female', 50],\n",
              "       ['Male', 47],\n",
              "       ['Female', 51],\n",
              "       ['Male', 69],\n",
              "       ['Female', 27],\n",
              "       ['Male', 53],\n",
              "       ['Male', 70],\n",
              "       ['Male', 19],\n",
              "       ['Female', 67],\n",
              "       ['Female', 54],\n",
              "       ['Male', 63],\n",
              "       ['Male', 18],\n",
              "       ['Female', 43],\n",
              "       ['Female', 68],\n",
              "       ['Male', 19],\n",
              "       ['Female', 32],\n",
              "       ['Male', 70],\n",
              "       ['Female', 47],\n",
              "       ['Female', 60],\n",
              "       ['Female', 60],\n",
              "       ['Male', 59],\n",
              "       ['Male', 26],\n",
              "       ['Female', 45],\n",
              "       ['Male', 40],\n",
              "       ['Female', 23],\n",
              "       ['Female', 49],\n",
              "       ['Male', 57],\n",
              "       ['Male', 38],\n",
              "       ['Male', 67],\n",
              "       ['Female', 46],\n",
              "       ['Female', 21],\n",
              "       ['Male', 48],\n",
              "       ['Female', 55],\n",
              "       ['Female', 22],\n",
              "       ['Female', 34],\n",
              "       ['Female', 50],\n",
              "       ['Female', 68],\n",
              "       ['Male', 18],\n",
              "       ['Male', 48],\n",
              "       ['Female', 40],\n",
              "       ['Female', 32],\n",
              "       ['Male', 24],\n",
              "       ['Female', 47],\n",
              "       ['Female', 27],\n",
              "       ['Male', 48],\n",
              "       ['Male', 20],\n",
              "       ['Female', 23],\n",
              "       ['Female', 49],\n",
              "       ['Male', 67],\n",
              "       ['Male', 26],\n",
              "       ['Male', 49],\n",
              "       ['Female', 21],\n",
              "       ['Female', 66],\n",
              "       ['Male', 54],\n",
              "       ['Male', 68],\n",
              "       ['Male', 66],\n",
              "       ['Male', 65],\n",
              "       ['Female', 19],\n",
              "       ['Female', 38],\n",
              "       ['Male', 19],\n",
              "       ['Female', 18],\n",
              "       ['Female', 19],\n",
              "       ['Female', 63],\n",
              "       ['Female', 49],\n",
              "       ['Female', 51],\n",
              "       ['Female', 50],\n",
              "       ['Male', 27],\n",
              "       ['Female', 38],\n",
              "       ['Female', 40],\n",
              "       ['Male', 39],\n",
              "       ['Female', 23],\n",
              "       ['Female', 31],\n",
              "       ['Male', 43],\n",
              "       ['Male', 40],\n",
              "       ['Male', 59],\n",
              "       ['Male', 38],\n",
              "       ['Male', 47],\n",
              "       ['Male', 39],\n",
              "       ['Female', 25],\n",
              "       ['Female', 31],\n",
              "       ['Male', 20],\n",
              "       ['Female', 29],\n",
              "       ['Female', 44],\n",
              "       ['Male', 32],\n",
              "       ['Male', 19],\n",
              "       ['Female', 35],\n",
              "       ['Female', 57],\n",
              "       ['Male', 32],\n",
              "       ['Female', 28],\n",
              "       ['Female', 32],\n",
              "       ['Male', 25],\n",
              "       ['Male', 28],\n",
              "       ['Male', 48],\n",
              "       ['Female', 32],\n",
              "       ['Female', 34],\n",
              "       ['Male', 34],\n",
              "       ['Male', 43],\n",
              "       ['Male', 39],\n",
              "       ['Female', 44],\n",
              "       ['Female', 38],\n",
              "       ['Female', 47],\n",
              "       ['Female', 27],\n",
              "       ['Male', 37],\n",
              "       ['Female', 30],\n",
              "       ['Male', 34],\n",
              "       ['Female', 30],\n",
              "       ['Female', 56],\n",
              "       ['Female', 29],\n",
              "       ['Male', 19],\n",
              "       ['Female', 31],\n",
              "       ['Male', 50],\n",
              "       ['Female', 36],\n",
              "       ['Male', 42],\n",
              "       ['Female', 33],\n",
              "       ['Female', 36],\n",
              "       ['Male', 32],\n",
              "       ['Male', 40],\n",
              "       ['Male', 28],\n",
              "       ['Male', 36],\n",
              "       ['Male', 36],\n",
              "       ['Female', 52],\n",
              "       ['Female', 30],\n",
              "       ['Male', 58],\n",
              "       ['Male', 27],\n",
              "       ['Male', 59],\n",
              "       ['Male', 35],\n",
              "       ['Female', 37],\n",
              "       ['Female', 32],\n",
              "       ['Male', 46],\n",
              "       ['Female', 29],\n",
              "       ['Female', 41],\n",
              "       ['Male', 30],\n",
              "       ['Female', 54],\n",
              "       ['Male', 28],\n",
              "       ['Female', 41],\n",
              "       ['Female', 36],\n",
              "       ['Female', 34],\n",
              "       ['Female', 32],\n",
              "       ['Male', 33],\n",
              "       ['Female', 38],\n",
              "       ['Female', 47],\n",
              "       ['Female', 35],\n",
              "       ['Female', 45],\n",
              "       ['Male', 32],\n",
              "       ['Male', 32],\n",
              "       ['Male', 30]], dtype=object)"
            ]
          },
          "execution_count": 194,
          "metadata": {},
          "output_type": "execute_result"
        }
      ],
      "source": [
        "x=df.iloc[:,[1,2]].values\n",
        "x"
      ]
    },
    {
      "cell_type": "code",
      "execution_count": null,
      "id": "fb9b48a3",
      "metadata": {
        "id": "fb9b48a3",
        "outputId": "a92384a2-0193-4afc-e59a-d8caaf2538ad"
      },
      "outputs": [
        {
          "name": "stderr",
          "output_type": "stream",
          "text": [
            "C:\\Users\\johns\\anaconda3\\lib\\site-packages\\seaborn\\_decorators.py:36: FutureWarning: Pass the following variables as keyword args: x, y. From version 0.12, the only valid positional argument will be `data`, and passing other arguments without an explicit keyword will result in an error or misinterpretation.\n",
            "  warnings.warn(\n"
          ]
        },
        {
          "data": {
            "image/png": "[encoded data removed]",
            "text/plain": [
              "<Figure size 432x288 with 1 Axes>"
            ]
          },
          "metadata": {},
          "output_type": "display_data"
        }
      ],
      "source": [
        "sns.set()\n",
        "sns.violinplot(df.Gender,df.Age)\n",
        "plt.title('Age vs Gender')\n",
        "plt.xlabel('Gender')\n",
        "plt.ylabel('Age')\n",
        "plt.show()"
      ]
    },
    {
      "cell_type": "code",
      "execution_count": null,
      "id": "f852e706",
      "metadata": {
        "id": "f852e706",
        "outputId": "196f2ac4-c8cd-4283-eb55-859633e91599"
      },
      "outputs": [
        {
          "data": {
            "text/html": [
              "<div>\n",
              "<style scoped>\n",
              "    .dataframe tbody tr th:only-of-type {\n",
              "        vertical-align: middle;\n",
              "    }\n",
              "\n",
              "    .dataframe tbody tr th {\n",
              "        vertical-align: top;\n",
              "    }\n",
              "\n",
              "    .dataframe thead th {\n",
              "        text-align: right;\n",
              "    }\n",
              "</style>\n",
              "<table border=\"1\" class=\"dataframe\">\n",
              "  <thead>\n",
              "    <tr style=\"text-align: right;\">\n",
              "      <th></th>\n",
              "      <th>CustomerID</th>\n",
              "      <th>Age</th>\n",
              "      <th>Annual Income (k$)</th>\n",
              "      <th>Spending Score (1-100)</th>\n",
              "    </tr>\n",
              "    <tr>\n",
              "      <th>Gender</th>\n",
              "      <th></th>\n",
              "      <th></th>\n",
              "      <th></th>\n",
              "      <th></th>\n",
              "    </tr>\n",
              "  </thead>\n",
              "  <tbody>\n",
              "    <tr>\n",
              "      <th>Female</th>\n",
              "      <td>112</td>\n",
              "      <td>112</td>\n",
              "      <td>112</td>\n",
              "      <td>112</td>\n",
              "    </tr>\n",
              "    <tr>\n",
              "      <th>Male</th>\n",
              "      <td>88</td>\n",
              "      <td>88</td>\n",
              "      <td>88</td>\n",
              "      <td>88</td>\n",
              "    </tr>\n",
              "  </tbody>\n",
              "</table>\n",
              "</div>"
            ],
            "text/plain": [
              "        CustomerID  Age  Annual Income (k$)  Spending Score (1-100)\n",
              "Gender                                                             \n",
              "Female         112  112                 112                     112\n",
              "Male            88   88                  88                      88"
            ]
          },
          "execution_count": 196,
          "metadata": {},
          "output_type": "execute_result"
        }
      ],
      "source": [
        "df.groupby('Gender').count()"
      ]
    },
    {
      "cell_type": "markdown",
      "id": "03d14461",
      "metadata": {
        "id": "03d14461"
      },
      "source": [
        "# Choosing Annual Income and Spending Scores"
      ]
    },
    {
      "cell_type": "code",
      "execution_count": null,
      "id": "d56d6c94",
      "metadata": {
        "id": "d56d6c94",
        "outputId": "aded36ce-4694-483c-c106-984a7a7e2186"
      },
      "outputs": [
        {
          "data": {
            "text/plain": [
              "array([[ 15,  39],\n",
              "       [ 15,  81],\n",
              "       [ 16,   6],\n",
              "       [ 16,  77],\n",
              "       [ 17,  40],\n",
              "       [ 17,  76],\n",
              "       [ 18,   6],\n",
              "       [ 18,  94],\n",
              "       [ 19,   3],\n",
              "       [ 19,  72],\n",
              "       [ 19,  14],\n",
              "       [ 19,  99],\n",
              "       [ 20,  15],\n",
              "       [ 20,  77],\n",
              "       [ 20,  13],\n",
              "       [ 20,  79],\n",
              "       [ 21,  35],\n",
              "       [ 21,  66],\n",
              "       [ 23,  29],\n",
              "       [ 23,  98],\n",
              "       [ 24,  35],\n",
              "       [ 24,  73],\n",
              "       [ 25,   5],\n",
              "       [ 25,  73],\n",
              "       [ 28,  14],\n",
              "       [ 28,  82],\n",
              "       [ 28,  32],\n",
              "       [ 28,  61],\n",
              "       [ 29,  31],\n",
              "       [ 29,  87],\n",
              "       [ 30,   4],\n",
              "       [ 30,  73],\n",
              "       [ 33,   4],\n",
              "       [ 33,  92],\n",
              "       [ 33,  14],\n",
              "       [ 33,  81],\n",
              "       [ 34,  17],\n",
              "       [ 34,  73],\n",
              "       [ 37,  26],\n",
              "       [ 37,  75],\n",
              "       [ 38,  35],\n",
              "       [ 38,  92],\n",
              "       [ 39,  36],\n",
              "       [ 39,  61],\n",
              "       [ 39,  28],\n",
              "       [ 39,  65],\n",
              "       [ 40,  55],\n",
              "       [ 40,  47],\n",
              "       [ 40,  42],\n",
              "       [ 40,  42],\n",
              "       [ 42,  52],\n",
              "       [ 42,  60],\n",
              "       [ 43,  54],\n",
              "       [ 43,  60],\n",
              "       [ 43,  45],\n",
              "       [ 43,  41],\n",
              "       [ 44,  50],\n",
              "       [ 44,  46],\n",
              "       [ 46,  51],\n",
              "       [ 46,  46],\n",
              "       [ 46,  56],\n",
              "       [ 46,  55],\n",
              "       [ 47,  52],\n",
              "       [ 47,  59],\n",
              "       [ 48,  51],\n",
              "       [ 48,  59],\n",
              "       [ 48,  50],\n",
              "       [ 48,  48],\n",
              "       [ 48,  59],\n",
              "       [ 48,  47],\n",
              "       [ 49,  55],\n",
              "       [ 49,  42],\n",
              "       [ 50,  49],\n",
              "       [ 50,  56],\n",
              "       [ 54,  47],\n",
              "       [ 54,  54],\n",
              "       [ 54,  53],\n",
              "       [ 54,  48],\n",
              "       [ 54,  52],\n",
              "       [ 54,  42],\n",
              "       [ 54,  51],\n",
              "       [ 54,  55],\n",
              "       [ 54,  41],\n",
              "       [ 54,  44],\n",
              "       [ 54,  57],\n",
              "       [ 54,  46],\n",
              "       [ 57,  58],\n",
              "       [ 57,  55],\n",
              "       [ 58,  60],\n",
              "       [ 58,  46],\n",
              "       [ 59,  55],\n",
              "       [ 59,  41],\n",
              "       [ 60,  49],\n",
              "       [ 60,  40],\n",
              "       [ 60,  42],\n",
              "       [ 60,  52],\n",
              "       [ 60,  47],\n",
              "       [ 60,  50],\n",
              "       [ 61,  42],\n",
              "       [ 61,  49],\n",
              "       [ 62,  41],\n",
              "       [ 62,  48],\n",
              "       [ 62,  59],\n",
              "       [ 62,  55],\n",
              "       [ 62,  56],\n",
              "       [ 62,  42],\n",
              "       [ 63,  50],\n",
              "       [ 63,  46],\n",
              "       [ 63,  43],\n",
              "       [ 63,  48],\n",
              "       [ 63,  52],\n",
              "       [ 63,  54],\n",
              "       [ 64,  42],\n",
              "       [ 64,  46],\n",
              "       [ 65,  48],\n",
              "       [ 65,  50],\n",
              "       [ 65,  43],\n",
              "       [ 65,  59],\n",
              "       [ 67,  43],\n",
              "       [ 67,  57],\n",
              "       [ 67,  56],\n",
              "       [ 67,  40],\n",
              "       [ 69,  58],\n",
              "       [ 69,  91],\n",
              "       [ 70,  29],\n",
              "       [ 70,  77],\n",
              "       [ 71,  35],\n",
              "       [ 71,  95],\n",
              "       [ 71,  11],\n",
              "       [ 71,  75],\n",
              "       [ 71,   9],\n",
              "       [ 71,  75],\n",
              "       [ 72,  34],\n",
              "       [ 72,  71],\n",
              "       [ 73,   5],\n",
              "       [ 73,  88],\n",
              "       [ 73,   7],\n",
              "       [ 73,  73],\n",
              "       [ 74,  10],\n",
              "       [ 74,  72],\n",
              "       [ 75,   5],\n",
              "       [ 75,  93],\n",
              "       [ 76,  40],\n",
              "       [ 76,  87],\n",
              "       [ 77,  12],\n",
              "       [ 77,  97],\n",
              "       [ 77,  36],\n",
              "       [ 77,  74],\n",
              "       [ 78,  22],\n",
              "       [ 78,  90],\n",
              "       [ 78,  17],\n",
              "       [ 78,  88],\n",
              "       [ 78,  20],\n",
              "       [ 78,  76],\n",
              "       [ 78,  16],\n",
              "       [ 78,  89],\n",
              "       [ 78,   1],\n",
              "       [ 78,  78],\n",
              "       [ 78,   1],\n",
              "       [ 78,  73],\n",
              "       [ 79,  35],\n",
              "       [ 79,  83],\n",
              "       [ 81,   5],\n",
              "       [ 81,  93],\n",
              "       [ 85,  26],\n",
              "       [ 85,  75],\n",
              "       [ 86,  20],\n",
              "       [ 86,  95],\n",
              "       [ 87,  27],\n",
              "       [ 87,  63],\n",
              "       [ 87,  13],\n",
              "       [ 87,  75],\n",
              "       [ 87,  10],\n",
              "       [ 87,  92],\n",
              "       [ 88,  13],\n",
              "       [ 88,  86],\n",
              "       [ 88,  15],\n",
              "       [ 88,  69],\n",
              "       [ 93,  14],\n",
              "       [ 93,  90],\n",
              "       [ 97,  32],\n",
              "       [ 97,  86],\n",
              "       [ 98,  15],\n",
              "       [ 98,  88],\n",
              "       [ 99,  39],\n",
              "       [ 99,  97],\n",
              "       [101,  24],\n",
              "       [101,  68],\n",
              "       [103,  17],\n",
              "       [103,  85],\n",
              "       [103,  23],\n",
              "       [103,  69],\n",
              "       [113,   8],\n",
              "       [113,  91],\n",
              "       [120,  16],\n",
              "       [120,  79],\n",
              "       [126,  28],\n",
              "       [126,  74],\n",
              "       [137,  18],\n",
              "       [137,  83]], dtype=int64)"
            ]
          },
          "execution_count": 197,
          "metadata": {},
          "output_type": "execute_result"
        }
      ],
      "source": [
        "y=df.iloc[:,[3,4]].values\n",
        "y"
      ]
    },
    {
      "cell_type": "code",
      "execution_count": null,
      "id": "c267bc72",
      "metadata": {
        "id": "c267bc72",
        "outputId": "118260f1-3afc-4c3c-ede7-edda08bf0fd3"
      },
      "outputs": [
        {
          "name": "stderr",
          "output_type": "stream",
          "text": [
            "C:\\Users\\johns\\anaconda3\\lib\\site-packages\\seaborn\\_decorators.py:36: FutureWarning: Pass the following variables as keyword args: x, y. From version 0.12, the only valid positional argument will be `data`, and passing other arguments without an explicit keyword will result in an error or misinterpretation.\n",
            "  warnings.warn(\n"
          ]
        },
        {
          "data": {
            "text/plain": [
              "<function matplotlib.pyplot.show(close=None, block=None)>"
            ]
          },
          "execution_count": 198,
          "metadata": {},
          "output_type": "execute_result"
        },
        {
          "data": {
            "image/png": "[encoded data removed]",
            "text/plain": [
              "<Figure size 432x288 with 1 Axes>"
            ]
          },
          "metadata": {},
          "output_type": "display_data"
        }
      ],
      "source": [
        "sns.set()\n",
        "sns.scatterplot(df['Annual Income (k$)'], df['Spending Score (1-100)'])\n",
        "plt.xlabel('Annual Income')\n",
        "plt.ylabel('Spending Score (1-100)')\n",
        "plt.title('Annual Income (k$) Vs Spending Score')\n",
        "plt.show"
      ]
    },
    {
      "cell_type": "markdown",
      "id": "0b84ec21",
      "metadata": {
        "id": "0b84ec21"
      },
      "source": [
        "# Choosing the number of Clusters"
      ]
    },
    {
      "cell_type": "code",
      "execution_count": null,
      "id": "710596c9",
      "metadata": {
        "id": "710596c9",
        "outputId": "51745d0f-55d3-41ed-fddf-78b30af3523b"
      },
      "outputs": [
        {
          "name": "stderr",
          "output_type": "stream",
          "text": [
            "C:\\Users\\johns\\anaconda3\\lib\\site-packages\\sklearn\\cluster\\_kmeans.py:881: UserWarning: KMeans is known to have a memory leak on Windows with MKL, when there are less chunks than available threads. You can avoid it by setting the environment variable OMP_NUM_THREADS=1.\n",
            "  warnings.warn(\n"
          ]
        }
      ],
      "source": [
        "WCSS=[]\n",
        "for i in range(1,11):\n",
        "    kmeans=KMeans(n_clusters=i,init='k-means++',random_state=40)\n",
        "    kmeans.fit(y)\n",
        "    WCSS.append(kmeans.inertia_)"
      ]
    },
    {
      "cell_type": "code",
      "execution_count": null,
      "id": "44b7019b",
      "metadata": {
        "id": "44b7019b",
        "outputId": "294667d7-c257-44ef-c01d-beebda629b83"
      },
      "outputs": [
        {
          "data": {
            "text/plain": [
              "[269981.28000000014,\n",
              " 181363.59595959607,\n",
              " 106348.37306211119,\n",
              " 73679.78903948837,\n",
              " 44448.45544793369,\n",
              " 37265.86520484345,\n",
              " 30259.657207285458,\n",
              " 25044.96776401891,\n",
              " 21884.744095710266,\n",
              " 19692.55741822776]"
            ]
          },
          "execution_count": 200,
          "metadata": {},
          "output_type": "execute_result"
        }
      ],
      "source": [
        "WCSS"
      ]
    },
    {
      "cell_type": "code",
      "execution_count": null,
      "id": "2bc83947",
      "metadata": {
        "id": "2bc83947",
        "outputId": "587988d6-61a2-46a6-bc00-47eeb84181e0"
      },
      "outputs": [
        {
          "data": {
            "image/png": "[encoded data removed]",
            "text/plain": [
              "<Figure size 432x288 with 1 Axes>"
            ]
          },
          "metadata": {},
          "output_type": "display_data"
        }
      ],
      "source": [
        "sns.set()\n",
        "plt.plot(range(1,11),WCSS)\n",
        "plt.title('The Elbow Curve')\n",
        "plt.xlabel('Number of Clusters')\n",
        "plt.ylabel('WCSS')\n",
        "plt.show()"
      ]
    },
    {
      "cell_type": "markdown",
      "id": "b5aacaff",
      "metadata": {
        "id": "b5aacaff"
      },
      "source": [
        "# Training the k means clustering model "
      ]
    },
    {
      "cell_type": "code",
      "execution_count": null,
      "id": "d74b1206",
      "metadata": {
        "id": "d74b1206"
      },
      "outputs": [],
      "source": [
        "Kmeans=KMeans(n_clusters=5, init='k-means++',random_state=0)"
      ]
    },
    {
      "cell_type": "markdown",
      "id": "bcb31f90",
      "metadata": {
        "id": "bcb31f90"
      },
      "source": [
        "# Return cluster number for each data points"
      ]
    },
    {
      "cell_type": "code",
      "execution_count": null,
      "id": "14e637ba",
      "metadata": {
        "id": "14e637ba",
        "outputId": "66dafff1-48a8-4a53-ccee-cdfbafdb796a"
      },
      "outputs": [
        {
          "name": "stdout",
          "output_type": "stream",
          "text": [
            "[4 3 4 3 4 3 4 3 4 3 4 3 4 3 4 3 4 3 4 3 4 3 4 3 4 3 4 3 4 3 4 3 4 3 4 3 4\n",
            " 3 4 3 4 3 4 1 4 3 1 1 1 1 1 1 1 1 1 1 1 1 1 1 1 1 1 1 1 1 1 1 1 1 1 1 1 1\n",
            " 1 1 1 1 1 1 1 1 1 1 1 1 1 1 1 1 1 1 1 1 1 1 1 1 1 1 1 1 1 1 1 1 1 1 1 1 1\n",
            " 1 1 1 1 1 1 1 1 1 1 1 1 2 0 2 1 2 0 2 0 2 1 2 0 2 0 2 0 2 0 2 1 2 0 2 0 2\n",
            " 0 2 0 2 0 2 0 2 0 2 0 2 0 2 0 2 0 2 0 2 0 2 0 2 0 2 0 2 0 2 0 2 0 2 0 2 0\n",
            " 2 0 2 0 2 0 2 0 2 0 2 0 2 0 2]\n"
          ]
        }
      ],
      "source": [
        "z=Kmeans.fit_predict(y)\n",
        "print(z)"
      ]
    },
    {
      "cell_type": "code",
      "execution_count": null,
      "id": "7fa9257f",
      "metadata": {
        "id": "7fa9257f"
      },
      "outputs": [],
      "source": [
        "df['clusters']=z"
      ]
    },
    {
      "cell_type": "code",
      "execution_count": null,
      "id": "ca9309e4",
      "metadata": {
        "id": "ca9309e4",
        "outputId": "1f4426e0-5a6c-4620-d9d2-51f7450caad4"
      },
      "outputs": [
        {
          "data": {
            "text/html": [
              "<div>\n",
              "<style scoped>\n",
              "    .dataframe tbody tr th:only-of-type {\n",
              "        vertical-align: middle;\n",
              "    }\n",
              "\n",
              "    .dataframe tbody tr th {\n",
              "        vertical-align: top;\n",
              "    }\n",
              "\n",
              "    .dataframe thead th {\n",
              "        text-align: right;\n",
              "    }\n",
              "</style>\n",
              "<table border=\"1\" class=\"dataframe\">\n",
              "  <thead>\n",
              "    <tr style=\"text-align: right;\">\n",
              "      <th></th>\n",
              "      <th>CustomerID</th>\n",
              "      <th>Gender</th>\n",
              "      <th>Age</th>\n",
              "      <th>Annual Income (k$)</th>\n",
              "      <th>Spending Score (1-100)</th>\n",
              "      <th>clusters</th>\n",
              "    </tr>\n",
              "  </thead>\n",
              "  <tbody>\n",
              "    <tr>\n",
              "      <th>0</th>\n",
              "      <td>1</td>\n",
              "      <td>Male</td>\n",
              "      <td>19</td>\n",
              "      <td>15</td>\n",
              "      <td>39</td>\n",
              "      <td>4</td>\n",
              "    </tr>\n",
              "    <tr>\n",
              "      <th>1</th>\n",
              "      <td>2</td>\n",
              "      <td>Male</td>\n",
              "      <td>21</td>\n",
              "      <td>15</td>\n",
              "      <td>81</td>\n",
              "      <td>3</td>\n",
              "    </tr>\n",
              "    <tr>\n",
              "      <th>2</th>\n",
              "      <td>3</td>\n",
              "      <td>Female</td>\n",
              "      <td>20</td>\n",
              "      <td>16</td>\n",
              "      <td>6</td>\n",
              "      <td>4</td>\n",
              "    </tr>\n",
              "    <tr>\n",
              "      <th>3</th>\n",
              "      <td>4</td>\n",
              "      <td>Female</td>\n",
              "      <td>23</td>\n",
              "      <td>16</td>\n",
              "      <td>77</td>\n",
              "      <td>3</td>\n",
              "    </tr>\n",
              "    <tr>\n",
              "      <th>4</th>\n",
              "      <td>5</td>\n",
              "      <td>Female</td>\n",
              "      <td>31</td>\n",
              "      <td>17</td>\n",
              "      <td>40</td>\n",
              "      <td>4</td>\n",
              "    </tr>\n",
              "  </tbody>\n",
              "</table>\n",
              "</div>"
            ],
            "text/plain": [
              "   CustomerID  Gender  Age  Annual Income (k$)  Spending Score (1-100)  \\\n",
              "0           1    Male   19                  15                      39   \n",
              "1           2    Male   21                  15                      81   \n",
              "2           3  Female   20                  16                       6   \n",
              "3           4  Female   23                  16                      77   \n",
              "4           5  Female   31                  17                      40   \n",
              "\n",
              "   clusters  \n",
              "0         4  \n",
              "1         3  \n",
              "2         4  \n",
              "3         3  \n",
              "4         4  "
            ]
          },
          "execution_count": 205,
          "metadata": {},
          "output_type": "execute_result"
        }
      ],
      "source": [
        "df.head()"
      ]
    },
    {
      "cell_type": "code",
      "execution_count": null,
      "id": "b3c2cd86",
      "metadata": {
        "id": "b3c2cd86"
      },
      "outputs": [],
      "source": [
        "df.drop('CustomerID',axis=1,inplace=True)"
      ]
    },
    {
      "cell_type": "code",
      "execution_count": null,
      "id": "f7c2e49c",
      "metadata": {
        "id": "f7c2e49c",
        "outputId": "a19cfd8b-0ffb-4afd-96af-67250240d1b1"
      },
      "outputs": [
        {
          "data": {
            "text/html": [
              "<div>\n",
              "<style scoped>\n",
              "    .dataframe tbody tr th:only-of-type {\n",
              "        vertical-align: middle;\n",
              "    }\n",
              "\n",
              "    .dataframe tbody tr th {\n",
              "        vertical-align: top;\n",
              "    }\n",
              "\n",
              "    .dataframe thead th {\n",
              "        text-align: right;\n",
              "    }\n",
              "</style>\n",
              "<table border=\"1\" class=\"dataframe\">\n",
              "  <thead>\n",
              "    <tr style=\"text-align: right;\">\n",
              "      <th></th>\n",
              "      <th>Gender</th>\n",
              "      <th>Age</th>\n",
              "      <th>Annual Income (k$)</th>\n",
              "      <th>Spending Score (1-100)</th>\n",
              "      <th>clusters</th>\n",
              "    </tr>\n",
              "  </thead>\n",
              "  <tbody>\n",
              "    <tr>\n",
              "      <th>0</th>\n",
              "      <td>Male</td>\n",
              "      <td>19</td>\n",
              "      <td>15</td>\n",
              "      <td>39</td>\n",
              "      <td>4</td>\n",
              "    </tr>\n",
              "    <tr>\n",
              "      <th>1</th>\n",
              "      <td>Male</td>\n",
              "      <td>21</td>\n",
              "      <td>15</td>\n",
              "      <td>81</td>\n",
              "      <td>3</td>\n",
              "    </tr>\n",
              "    <tr>\n",
              "      <th>2</th>\n",
              "      <td>Female</td>\n",
              "      <td>20</td>\n",
              "      <td>16</td>\n",
              "      <td>6</td>\n",
              "      <td>4</td>\n",
              "    </tr>\n",
              "    <tr>\n",
              "      <th>3</th>\n",
              "      <td>Female</td>\n",
              "      <td>23</td>\n",
              "      <td>16</td>\n",
              "      <td>77</td>\n",
              "      <td>3</td>\n",
              "    </tr>\n",
              "    <tr>\n",
              "      <th>4</th>\n",
              "      <td>Female</td>\n",
              "      <td>31</td>\n",
              "      <td>17</td>\n",
              "      <td>40</td>\n",
              "      <td>4</td>\n",
              "    </tr>\n",
              "  </tbody>\n",
              "</table>\n",
              "</div>"
            ],
            "text/plain": [
              "   Gender  Age  Annual Income (k$)  Spending Score (1-100)  clusters\n",
              "0    Male   19                  15                      39         4\n",
              "1    Male   21                  15                      81         3\n",
              "2  Female   20                  16                       6         4\n",
              "3  Female   23                  16                      77         3\n",
              "4  Female   31                  17                      40         4"
            ]
          },
          "execution_count": 207,
          "metadata": {},
          "output_type": "execute_result"
        }
      ],
      "source": [
        "df.head()"
      ]
    },
    {
      "cell_type": "markdown",
      "id": "78284233",
      "metadata": {
        "id": "78284233"
      },
      "source": [
        "# Now visualising clusters"
      ]
    },
    {
      "cell_type": "code",
      "execution_count": null,
      "id": "40cd4582",
      "metadata": {
        "id": "40cd4582",
        "outputId": "940f6200-0f33-4297-a077-cd964042c2da"
      },
      "outputs": [
        {
          "name": "stderr",
          "output_type": "stream",
          "text": [
            "<ipython-input-208-8afc1f7bf9d8>:8: MatplotlibDeprecationWarning: Case-insensitive properties were deprecated in 3.3 and support will be removed two minor releases later\n",
            "  plt.scatter(df1['Annual Income (k$)'],df1['Spending Score (1-100)'],s=50,color='green',Label='Cluster1')\n",
            "<ipython-input-208-8afc1f7bf9d8>:9: MatplotlibDeprecationWarning: Case-insensitive properties were deprecated in 3.3 and support will be removed two minor releases later\n",
            "  plt.scatter(df2['Annual Income (k$)'],df2['Spending Score (1-100)'],s=50,color='red',Label='Cluster2')\n",
            "<ipython-input-208-8afc1f7bf9d8>:10: MatplotlibDeprecationWarning: Case-insensitive properties were deprecated in 3.3 and support will be removed two minor releases later\n",
            "  plt.scatter(df3['Annual Income (k$)'],df3['Spending Score (1-100)'],s=50,color='yellow',Label='Cluster3')\n",
            "<ipython-input-208-8afc1f7bf9d8>:11: MatplotlibDeprecationWarning: Case-insensitive properties were deprecated in 3.3 and support will be removed two minor releases later\n",
            "  plt.scatter(df4['Annual Income (k$)'],df4['Spending Score (1-100)'],s=50,color='blue',Label='Cluster4')\n",
            "<ipython-input-208-8afc1f7bf9d8>:12: MatplotlibDeprecationWarning: Case-insensitive properties were deprecated in 3.3 and support will be removed two minor releases later\n",
            "  plt.scatter(df5['Annual Income (k$)'],df5['Spending Score (1-100)'],s=50,color='black',Label='Cluster5')\n"
          ]
        },
        {
          "data": {
            "image/png": "[encoded data removed]",
            "text/plain": [
              "<Figure size 1080x720 with 1 Axes>"
            ]
          },
          "metadata": {},
          "output_type": "display_data"
        }
      ],
      "source": [
        "df1=df[df.clusters==0]\n",
        "df2=df[df.clusters==1]\n",
        "df3=df[df.clusters==2]\n",
        "df4=df[df.clusters==3]\n",
        "df5=df[df.clusters==4]\n",
        "\n",
        "plt.figure(figsize=(15,10))\n",
        "plt.scatter(df1['Annual Income (k$)'],df1['Spending Score (1-100)'],s=50,color='green',Label='Cluster1')\n",
        "plt.scatter(df2['Annual Income (k$)'],df2['Spending Score (1-100)'],s=50,color='red',Label='Cluster2')\n",
        "plt.scatter(df3['Annual Income (k$)'],df3['Spending Score (1-100)'],s=50,color='yellow',Label='Cluster3')\n",
        "plt.scatter(df4['Annual Income (k$)'],df4['Spending Score (1-100)'],s=50,color='blue',Label='Cluster4')\n",
        "plt.scatter(df5['Annual Income (k$)'],df5['Spending Score (1-100)'],s=50,color='black',Label='Cluster5')\n",
        "plt.xlabel('Annual Income')\n",
        "plt.ylabel('Spending Scores')\n",
        "plt.title('Income Vs Spending Score')\n",
        "plt.show()\n",
        "\n",
        "\n"
      ]
    },
    {
      "cell_type": "markdown",
      "id": "ac798486",
      "metadata": {
        "id": "ac798486"
      },
      "source": [
        "# Plotting the centroid of clusters"
      ]
    },
    {
      "cell_type": "code",
      "execution_count": null,
      "id": "640fe93b",
      "metadata": {
        "id": "640fe93b",
        "outputId": "f050d970-2c16-4958-9ee8-eccf2eb28b84"
      },
      "outputs": [
        {
          "data": {
            "text/plain": [
              "array([[88.2       , 17.11428571],\n",
              "       [55.2962963 , 49.51851852],\n",
              "       [86.53846154, 82.12820513],\n",
              "       [25.72727273, 79.36363636],\n",
              "       [26.30434783, 20.91304348]])"
            ]
          },
          "execution_count": 209,
          "metadata": {},
          "output_type": "execute_result"
        }
      ],
      "source": [
        "kmeans1=Kmeans.cluster_centers_\n",
        "kmeans1"
      ]
    },
    {
      "cell_type": "code",
      "execution_count": null,
      "id": "575750e8",
      "metadata": {
        "id": "575750e8",
        "outputId": "94eab08a-96ec-44fb-bba9-d55e6130c145"
      },
      "outputs": [
        {
          "name": "stderr",
          "output_type": "stream",
          "text": [
            "<ipython-input-213-12937ca89c56>:8: MatplotlibDeprecationWarning: Case-insensitive properties were deprecated in 3.3 and support will be removed two minor releases later\n",
            "  plt.scatter(df1['Annual Income (k$)'],df1['Spending Score (1-100)'],s=50,color='green',Label='Cluster1')\n",
            "<ipython-input-213-12937ca89c56>:9: MatplotlibDeprecationWarning: Case-insensitive properties were deprecated in 3.3 and support will be removed two minor releases later\n",
            "  plt.scatter(df2['Annual Income (k$)'],df2['Spending Score (1-100)'],s=50,color='red',Label='Cluster2')\n",
            "<ipython-input-213-12937ca89c56>:10: MatplotlibDeprecationWarning: Case-insensitive properties were deprecated in 3.3 and support will be removed two minor releases later\n",
            "  plt.scatter(df3['Annual Income (k$)'],df3['Spending Score (1-100)'],s=50,color='yellow',Label='Cluster3')\n",
            "<ipython-input-213-12937ca89c56>:11: MatplotlibDeprecationWarning: Case-insensitive properties were deprecated in 3.3 and support will be removed two minor releases later\n",
            "  plt.scatter(df4['Annual Income (k$)'],df4['Spending Score (1-100)'],s=50,color='blue',Label='Cluster4')\n",
            "<ipython-input-213-12937ca89c56>:12: MatplotlibDeprecationWarning: Case-insensitive properties were deprecated in 3.3 and support will be removed two minor releases later\n",
            "  plt.scatter(df5['Annual Income (k$)'],df5['Spending Score (1-100)'],s=50,color='orange',Label='Cluster5')\n",
            "<ipython-input-213-12937ca89c56>:14: MatplotlibDeprecationWarning: Case-insensitive properties were deprecated in 3.3 and support will be removed two minor releases later\n",
            "  plt.scatter(Kmeans.cluster_centers_[:,0],Kmeans.cluster_centers_[:,1],c='black',s=150,marker='*',Label='centroids')\n"
          ]
        },
        {
          "data": {
            "text/plain": [
              "Text(0.5, 1.0, 'Income Vs Spending Score')"
            ]
          },
          "execution_count": 213,
          "metadata": {},
          "output_type": "execute_result"
        },
        {
          "data": {
            "image/png": "[encoded data removed]",
            "text/plain": [
              "<Figure size 720x576 with 1 Axes>"
            ]
          },
          "metadata": {},
          "output_type": "display_data"
        }
      ],
      "source": [
        "df1=df[df.clusters==0]\n",
        "df2=df[df.clusters==1]\n",
        "df3=df[df.clusters==2]\n",
        "df4=df[df.clusters==3]\n",
        "df5=df[df.clusters==4]\n",
        "\n",
        "plt.figure(figsize=(10,8))\n",
        "plt.scatter(df1['Annual Income (k$)'],df1['Spending Score (1-100)'],s=50,color='green',Label='Cluster1')\n",
        "plt.scatter(df2['Annual Income (k$)'],df2['Spending Score (1-100)'],s=50,color='red',Label='Cluster2')\n",
        "plt.scatter(df3['Annual Income (k$)'],df3['Spending Score (1-100)'],s=50,color='yellow',Label='Cluster3')\n",
        "plt.scatter(df4['Annual Income (k$)'],df4['Spending Score (1-100)'],s=50,color='blue',Label='Cluster4')\n",
        "plt.scatter(df5['Annual Income (k$)'],df5['Spending Score (1-100)'],s=50,color='orange',Label='Cluster5')\n",
        "\n",
        "plt.scatter(Kmeans.cluster_centers_[:,0],Kmeans.cluster_centers_[:,1],c='black',s=150,marker='*',Label='centroids')\n",
        "plt.xlabel('Annual Income')\n",
        "plt.ylabel('Spending Scores')\n",
        "plt.title('Income Vs Spending Score')\n",
        "\n"
      ]
    },
    {
      "cell_type": "code",
      "execution_count": null,
      "id": "b89d159e",
      "metadata": {
        "id": "b89d159e"
      },
      "outputs": [],
      "source": [
        ""
      ]
    },
    {
      "cell_type": "code",
      "execution_count": null,
      "id": "627dda2b",
      "metadata": {
        "id": "627dda2b"
      },
      "outputs": [],
      "source": [
        ""
      ]
    }
  ],
  "metadata": {
    "kernelspec": {
      "display_name": "Python 3",
      "language": "python",
      "name": "python3"
    },
    "language_info": {
      "codemirror_mode": {
        "name": "ipython",
        "version": 3
      },
      "file_extension": ".py",
      "mimetype": "text/x-python",
      "name": "python",
      "nbconvert_exporter": "python",
      "pygments_lexer": "ipython3",
      "version": "3.8.8"
    },
    "colab": {
      "name": "Customer Segmentation Project.ipynb",
      "provenance": [],
      "include_colab_link": true
    }
  },
  "nbformat": 4,
  "nbformat_minor": 5
}